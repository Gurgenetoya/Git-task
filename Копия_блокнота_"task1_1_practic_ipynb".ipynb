{
  "cells": [
    {
      "cell_type": "markdown",
      "metadata": {
        "id": "view-in-github",
        "colab_type": "text"
      },
      "source": [
        "<a href=\"https://colab.research.google.com/github/Gurgenetoya/Git-task/blob/main/%D0%9A%D0%BE%D0%BF%D0%B8%D1%8F_%D0%B1%D0%BB%D0%BE%D0%BA%D0%BD%D0%BE%D1%82%D0%B0_%22task1_1_practic_ipynb%22.ipynb\" target=\"_parent\"><img src=\"https://colab.research.google.com/assets/colab-badge.svg\" alt=\"Open In Colab\"/></a>"
      ]
    },
    {
      "cell_type": "markdown",
      "metadata": {
        "collapsed": false,
        "id": "JQdHpq1j1ZiU"
      },
      "source": [
        "# Введение в методы анализа данных. Язык Python."
      ],
      "id": "JQdHpq1j1ZiU"
    },
    {
      "cell_type": "markdown",
      "source": [
        "## Домашняя работа 1.1: Процедурный подход к написанию программ.\n",
        "<br><br><br><br>\n",
        "__Ксемидов Борис (nstalker.anonim@yandex.ru)__\n",
        "\n",
        "__Аксентьев Артем (akseart@ya.ru)__\n",
        "\n",
        "\n",
        "<br>\n",
        "\n"
      ],
      "metadata": {
        "collapsed": false,
        "id": "9Fx-_WWk1Zib"
      },
      "id": "9Fx-_WWk1Zib"
    },
    {
      "cell_type": "markdown",
      "source": [
        "__Выдана__: 12.03.2020\n",
        "__Deadline__: 23:59 26.03.2020\n",
        "\n",
        "Готовые решения в виде данного блокнота с выполненными заданиями отправлять на почту akseart@ya.ru и nstalker.anonim@yandex.ru"
      ],
      "metadata": {
        "collapsed": false,
        "id": "aC6395QW1Zic"
      },
      "id": "aC6395QW1Zic"
    },
    {
      "cell_type": "markdown",
      "metadata": {
        "collapsed": false,
        "id": "OKas1qqy1Zid"
      },
      "source": [
        "__ФИО:__ ..."
      ],
      "id": "OKas1qqy1Zid"
    },
    {
      "cell_type": "markdown",
      "metadata": {
        "collapsed": false,
        "id": "9LffWmyU1Zie"
      },
      "source": [
        "## Критерии оценивания:\n",
        "- Правильность исполнения кода\n",
        "- Корректное исполнение на граничных случаях\n",
        "- Соблюдение PEP-8 и именования переменных\n",
        "\n",
        "Всего за работу можно получить 10 баллов.\n",
        "\n",
        "Изменение формулировок заданий, удаление фрагментов заданий запрещено.\n",
        "\n",
        "Все ячейки должны быть \"выполненными\". Под каждую задачу выполнена проверка.\n",
        "\n",
        "При заимствовании кода из интернета, необходимо указать ссылку на ресурс.\n",
        "\n",
        "\n"
      ],
      "id": "9LffWmyU1Zie"
    },
    {
      "cell_type": "markdown",
      "metadata": {
        "id": "fXToVuGF1Zif"
      },
      "source": [
        "**Задание 1.** (1 балл)\n",
        "\n",
        "Реализуйте функцию, которая генерирует случайный интернет адрес. Интернет адрес вида: www.xyz.com, где www. - должен быть всегда, xyz - случайная последовательность букв, .com выбор случайным образом из заранее заданного списка"
      ],
      "id": "fXToVuGF1Zif"
    },
    {
      "cell_type": "code",
      "execution_count": null,
      "metadata": {
        "colab": {
          "base_uri": "https://localhost:8080/",
          "height": 35
        },
        "id": "iRLG88XS1Zig",
        "outputId": "3d39c453-1064-4278-c8b2-3cd3d5e5bea0"
      },
      "outputs": [
        {
          "output_type": "execute_result",
          "data": {
            "text/plain": [
              "'www.obxkpozol.su'"
            ],
            "application/vnd.google.colaboratory.intrinsic+json": {
              "type": "string"
            }
          },
          "metadata": {},
          "execution_count": 4
        }
      ],
      "source": [
        "import random\n",
        "import string\n",
        "\n",
        "\n",
        "def get_rand_string(num):\n",
        "    return ''.join(random.choice(string.ascii_lowercase) for _ in range(num))\n",
        "\n",
        "\n",
        "def task_01(domens=('com','ru', 'ai', 'su')):\n",
        "    return f\"www.{get_rand_string(9)}.{random.choice(domens)}\"\n",
        "\n",
        "\n",
        "task_01()"
      ],
      "id": "iRLG88XS1Zig"
    },
    {
      "cell_type": "markdown",
      "metadata": {
        "id": "-XnZVvrt1Zih"
      },
      "source": [
        "__Задание 2.__  (1 балл)\n",
        "\n",
        "Проверить текст на правильность расстановки, круглых, фигурных и квадратных скобок, вывести тот тип скобок, который выоплнен неправильно."
      ],
      "id": "-XnZVvrt1Zih"
    },
    {
      "cell_type": "code",
      "execution_count": null,
      "metadata": {
        "colab": {
          "base_uri": "https://localhost:8080/"
        },
        "id": "8B2NVxUw1Zii",
        "outputId": "55425ca3-4a8f-4a23-c4f2-f75b5439a3b9"
      },
      "outputs": [
        {
          "output_type": "execute_result",
          "data": {
            "text/plain": [
              "False"
            ]
          },
          "metadata": {},
          "execution_count": 44
        }
      ],
      "source": [
        "def is_correct_brackets(text):\n",
        "\n",
        "    num_brackets = 0 #([{\n",
        "    for i in text:\n",
        "        if i == \"(\" or i == \"[\" or i == \"{\":\n",
        "            num_brackets += 1\n",
        "        elif i == \")\" or i == \"]\" or i == \"}\":\n",
        "            num_brackets -= 1\n",
        "        if num_brackets < 0:\n",
        "            return False\n",
        "    if num_brackets == 0:\n",
        "        return True   \n",
        "    else:\n",
        "        return False \n",
        "                     \n",
        "\n",
        "is_correct_brackets(\"()()]{}\") #-> (False, '[]')"
      ],
      "id": "8B2NVxUw1Zii"
    },
    {
      "cell_type": "code",
      "source": [
        ""
      ],
      "metadata": {
        "id": "A_WRlApEWfbQ"
      },
      "id": "A_WRlApEWfbQ",
      "execution_count": null,
      "outputs": []
    },
    {
      "cell_type": "markdown",
      "metadata": {
        "id": "1yQ7M3bz1Zij"
      },
      "source": [
        "**Задание 3.** (1 балл)\n",
        "\n",
        "Преобразовать имена переменных из snake_case в COBOL-CASE\n",
        "\n",
        "snake_case - стиль написания составных слов, при котором несколько слов разделяются символом подчеркивания (_), и не имеют пробелов в записи, причём каждое слово обычно пишется с маленькой буквы — «foo_bar», «hello_world»\n",
        "\n",
        "COBOL-CASE - стиль написания составных слов, при котором несколько слов разделяются дефисом (-), и не имеют пробелов в записи, причём все слова пишутся в верхнем регистре(FOO-BAR, HELLO-WORLD)\n"
      ],
      "id": "1yQ7M3bz1Zij"
    },
    {
      "cell_type": "code",
      "execution_count": null,
      "metadata": {
        "id": "bNKHPOr31Zik",
        "colab": {
          "base_uri": "https://localhost:8080/"
        },
        "outputId": "7e892d0d-a4ed-4320-de4a-5dac0285404c"
      },
      "outputs": [
        {
          "output_type": "execute_result",
          "data": {
            "text/plain": [
              "['FOO-BAR', 'HELLO-WORLD', 'CAMEL-CASE-KEY']"
            ]
          },
          "metadata": {},
          "execution_count": 69
        }
      ],
      "source": [
        "def change_notation(list_of_names):\n",
        "    for pos_list, v in enumerate(list_of_names):\n",
        "        result = v\n",
        "        for pos_str, i in enumerate(v):\n",
        "            if i.islower():  \n",
        "                result = v.upper().replace('_', '-')\n",
        "                              \n",
        "        \n",
        "        list_of_names[pos_list] = result\n",
        "    return list_of_names\n",
        "\n",
        "\n",
        "change_notation([\"foo_bar\", \"hello_world\", \"camel_case_key\"])"
      ],
      "id": "bNKHPOr31Zik"
    },
    {
      "cell_type": "markdown",
      "metadata": {
        "id": "8wsZB6Fm1Zil"
      },
      "source": [
        "**Задание 4.** (1 балл)\n",
        "\n",
        "Дан текст. Найдите в нем все символы Q, окруженные знаком #, и добавьте перед ними '{' и после них '}'.\n",
        "\n",
        "\n"
      ],
      "id": "8wsZB6Fm1Zil"
    },
    {
      "cell_type": "code",
      "execution_count": null,
      "metadata": {
        "id": "X-5pjvTR1Zil",
        "colab": {
          "base_uri": "https://localhost:8080/",
          "height": 35
        },
        "outputId": "6f5bf3f2-79d0-49da-b6ad-e1302111d2c9"
      },
      "outputs": [
        {
          "output_type": "execute_result",
          "data": {
            "text/plain": [
              "' 2  {Q}khgfi {Q} vhkjd  4566  '"
            ],
            "application/vnd.google.colaboratory.intrinsic+json": {
              "type": "string"
            }
          },
          "metadata": {},
          "execution_count": 92
        }
      ],
      "source": [
        "def escape_symbols(text):\n",
        "    pos_space = 0\n",
        "    for pos, symb in enumerate(text):\n",
        "        if symb == '#':\n",
        "            if pos_space is None:\n",
        "                pos_space = pos \n",
        "            else:\n",
        "                if text[pos_space+1:pos].isalnum():\n",
        "                    text = text[:pos_space] + '{' + text[pos_space+1:pos] + '}' + text[pos+1:]\n",
        "                    continue\n",
        "                pos_space = pos\n",
        "    return text\n",
        "\n",
        "\n",
        "escape_symbols(\" 2  #Q#khgfi #Q# vhkjd  4566  \")"
      ],
      "id": "X-5pjvTR1Zil"
    },
    {
      "cell_type": "code",
      "source": [
        ""
      ],
      "metadata": {
        "id": "skFc7dQZjKO8"
      },
      "id": "skFc7dQZjKO8",
      "execution_count": null,
      "outputs": []
    },
    {
      "cell_type": "markdown",
      "metadata": {
        "id": "tGVQBtb-1Zil"
      },
      "source": [
        "**Задание 5.** (2 балла)\n",
        "\n",
        "Написать функцию, которая будет возвращать каталог до которого задан путь.\n",
        "\n",
        "Обратите внимание, что путь может путь задан как до файла c:\\WebServers\\home\\testsite\\www\\myfile.txt\n",
        "Так и до каталога: c:\\WebServers\\home\\testsite\\www\n",
        "\n",
        "Надо смотреть на расширение файла(.txt, например)\n"
      ],
      "id": "tGVQBtb-1Zil"
    },
    {
      "cell_type": "code",
      "execution_count": null,
      "metadata": {
        "pycharm": {
          "name": "#%%\n"
        },
        "id": "2l55SRwF1Zin",
        "colab": {
          "base_uri": "https://localhost:8080/"
        },
        "outputId": "9b1b5f51-40a3-4537-d51c-42906650820f"
      },
      "outputs": [
        {
          "output_type": "stream",
          "name": "stdout",
          "text": [
            "www\n"
          ]
        }
      ],
      "source": [
        "def get_directory(path):\n",
        "        \n",
        "    for i in path:\n",
        "\n",
        "      if i.split('.')[0]:\n",
        "          return path.split('\\\\')[-2]\n",
        "      else:\n",
        "          return path.split('\\\\')[-1]\n",
        "\n",
        "\n",
        "print(get_directory('c:\\WebServers\\home\\testsite\\www\\myfile.txt'))"
      ],
      "id": "2l55SRwF1Zin"
    },
    {
      "cell_type": "markdown",
      "metadata": {
        "id": "nfv6xg5F1Zin"
      },
      "source": [
        "**Задание 6.**  (4 балла)\n",
        "\n",
        "Доработать предыдущую функцию, так, чтобы она стала генератором(ключевое слово yield) и на каждом шаге возвращала родительский каталог предыдущего.\n",
        "\n",
        "\n",
        "Пример: c:\\WebServers\\home\\testsite\\www\\myfile.txt -> www, testsite, home, WebServers"
      ],
      "id": "nfv6xg5F1Zin"
    },
    {
      "cell_type": "code",
      "source": [
        "from typing import Text\n",
        "\n",
        "path = 'c:\\WebServers\\home\\ytestsite\\www\\myfile.txt'\n",
        "\n",
        "def get_directory(path):\n",
        "    \n",
        "    directors = path.split('\\\\')\n",
        "    \n",
        "    if ('.') in path:\n",
        "\n",
        "        \n",
        "        del(directors[-1])\n",
        "        directors.reverse()\n",
        "\n",
        "        for i in directors:\n",
        "\n",
        "          yield i\n",
        "\n",
        "a = get_directory(path)\n",
        "\n",
        "next(a)\n",
        "next(a)\n",
        "next(a)\n",
        "next(a)\n",
        "# get_directory(path)"
      ],
      "metadata": {
        "colab": {
          "base_uri": "https://localhost:8080/",
          "height": 35
        },
        "id": "HP3b2A2H17MQ",
        "outputId": "f04eaeed-46eb-499c-9a1a-dc49daeb3bec"
      },
      "id": "HP3b2A2H17MQ",
      "execution_count": null,
      "outputs": [
        {
          "output_type": "execute_result",
          "data": {
            "text/plain": [
              "'WebServers'"
            ],
            "application/vnd.google.colaboratory.intrinsic+json": {
              "type": "string"
            }
          },
          "metadata": {},
          "execution_count": 7
        }
      ]
    },
    {
      "cell_type": "code",
      "source": [
        "from typing import Text\n",
        "def get_directory(path):\n",
        "    return path.split('\\\\')[-2::-1] # попытка через срез\n",
        "    \n",
        "\n",
        "get_directory(r'c:\\WebServers\\home\\testsite\\www\\myfile.txt')"
      ],
      "metadata": {
        "colab": {
          "base_uri": "https://localhost:8080/"
        },
        "id": "RaERQVHRnSmK",
        "outputId": "2ce65e6e-5950-4019-ea27-123794cdfee3"
      },
      "id": "RaERQVHRnSmK",
      "execution_count": null,
      "outputs": [
        {
          "output_type": "execute_result",
          "data": {
            "text/plain": [
              "['www', 'testsite', 'home', 'WebServers', 'c:']"
            ]
          },
          "metadata": {},
          "execution_count": 28
        }
      ]
    },
    {
      "cell_type": "code",
      "source": [
        "from google.colab import drive\n",
        "drive.mount('/content/drive')"
      ],
      "metadata": {
        "colab": {
          "base_uri": "https://localhost:8080/"
        },
        "id": "LR_dsrz0Biim",
        "outputId": "f63e6e16-ee62-4da1-8cf0-068866871921"
      },
      "id": "LR_dsrz0Biim",
      "execution_count": null,
      "outputs": [
        {
          "output_type": "stream",
          "name": "stdout",
          "text": [
            "Drive already mounted at /content/drive; to attempt to forcibly remount, call drive.mount(\"/content/drive\", force_remount=True).\n"
          ]
        }
      ]
    }
  ],
  "metadata": {
    "interpreter": {
      "hash": "aabca8dbc037b6807f09b64734f2d48c280325369fa92c830ecd4a8109bebb48"
    },
    "kernelspec": {
      "display_name": "Python 3.8.11 64-bit ('MSU_course': conda)",
      "name": "python3"
    },
    "language_info": {
      "codemirror_mode": {
        "name": "ipython",
        "version": 3
      },
      "file_extension": ".py",
      "mimetype": "text/x-python",
      "name": "python",
      "nbconvert_exporter": "python",
      "pygments_lexer": "ipython3",
      "version": "3.8.11"
    },
    "colab": {
      "name": "Копия блокнота \"task1_1_practic.ipynb\"",
      "provenance": [],
      "collapsed_sections": [],
      "include_colab_link": true
    }
  },
  "nbformat": 4,
  "nbformat_minor": 5
}